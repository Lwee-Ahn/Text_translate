{
  "cells": [
    {
      "cell_type": "markdown",
      "metadata": {
        "id": "view-in-github",
        "colab_type": "text"
      },
      "source": [
        "<a href=\"https://colab.research.google.com/github/Lwee-Ahn/Text_translate/blob/main/UsingCnn.ipynb\" target=\"_parent\"><img src=\"https://colab.research.google.com/assets/colab-badge.svg\" alt=\"Open In Colab\"/></a>"
      ]
    },
    {
      "cell_type": "code",
      "execution_count": 1,
      "metadata": {
        "id": "lB-v2q2zyUju",
        "colab": {
          "base_uri": "https://localhost:8080/"
        },
        "outputId": "f5b70c01-0598-42fe-f60e-9f2a91672daa"
      },
      "outputs": [
        {
          "output_type": "stream",
          "name": "stdout",
          "text": [
            "Colab only includes TensorFlow 2.x; %tensorflow_version has no effect.\n",
            "Found GPU at: /device:GPU:0\n",
            "CPU times: user 2 µs, sys: 1e+03 ns, total: 3 µs\n",
            "Wall time: 5.72 µs\n"
          ]
        }
      ],
      "source": [
        "%tensorflow_version 2.x\n",
        "import tensorflow as tf\n",
        "device_name = tf.test.gpu_device_name()\n",
        "if device_name != '/device:GPU:0':\n",
        "  raise SystemError('GPU device not found')\n",
        "print('Found GPU at: {}'.format(device_name))\n",
        "%time"
      ]
    },
    {
      "cell_type": "code",
      "execution_count": 2,
      "metadata": {
        "id": "LxQ87nu8TaJm"
      },
      "outputs": [],
      "source": [
        "import os\n",
        "from tensorflow.keras import layers\n",
        "from tensorflow.keras import Model\n",
        "from tensorflow.keras.optimizers import RMSprop\n",
        "from tensorflow.keras.preprocessing.image import ImageDataGenerator\n",
        "from tensorflow.keras.layers import Dense, Flatten, Conv2D, MaxPooling2D, Dropout\n",
        "from tensorflow.keras.preprocessing import image\n",
        "import numpy as np\n",
        "import cv2\n",
        "import matplotlib.pyplot as plt"
      ]
    },
    {
      "cell_type": "markdown",
      "metadata": {
        "id": "rxMbVtZ40NrC"
      },
      "source": [
        "# Data Loading"
      ]
    },
    {
      "cell_type": "code",
      "execution_count": 3,
      "metadata": {
        "colab": {
          "base_uri": "https://localhost:8080/"
        },
        "id": "YYmSniNFtENP",
        "outputId": "09ff6f7f-6d05-48c3-ecce-933d60ec225b"
      },
      "outputs": [
        {
          "output_type": "stream",
          "name": "stdout",
          "text": [
            "Mounted at /content/gdrive/\n"
          ]
        }
      ],
      "source": [
        "from google.colab import drive\n",
        "\n",
        "drive.mount(\"/content/gdrive/\")"
      ]
    },
    {
      "cell_type": "code",
      "execution_count": 4,
      "metadata": {
        "id": "TGQK9eE_tIVG"
      },
      "outputs": [],
      "source": [
        "train_dir = \"/content/gdrive/MyDrive/dataset/Training\"\n",
        "test_dir = \"/content/gdrive/MyDrive/dataset/Testing\""
      ]
    },
    {
      "cell_type": "code",
      "execution_count": 5,
      "metadata": {
        "colab": {
          "base_uri": "https://localhost:8080/"
        },
        "id": "CXJaQp74t5WQ",
        "outputId": "e4767bc4-8fce-4aa3-aa79-97688c2452d1"
      },
      "outputs": [
        {
          "output_type": "execute_result",
          "data": {
            "text/plain": [
              "['14.png',\n",
              " '1.png',\n",
              " '13.png',\n",
              " '12.png',\n",
              " '11.png',\n",
              " '15.png',\n",
              " '10.png',\n",
              " '17.png',\n",
              " '20.png',\n",
              " '19.png',\n",
              " '2.png',\n",
              " '18.png',\n",
              " '16.png',\n",
              " '3.png',\n",
              " '5.png',\n",
              " '4.png',\n",
              " '9.png',\n",
              " '7.png',\n",
              " '6.png',\n",
              " '8.png']"
            ]
          },
          "metadata": {},
          "execution_count": 5
        }
      ],
      "source": [
        "os.listdir(train_dir)\n",
        "os.listdir(train_dir+\"/A\")"
      ]
    },
    {
      "cell_type": "code",
      "execution_count": 6,
      "metadata": {
        "colab": {
          "base_uri": "https://localhost:8080/",
          "height": 449
        },
        "id": "ENf6q6AmuAvw",
        "outputId": "66fe4ade-9c26-4304-fd24-8c4b3db555dd"
      },
      "outputs": [
        {
          "output_type": "execute_result",
          "data": {
            "text/plain": [
              "<matplotlib.image.AxesImage at 0x7e9b03935120>"
            ]
          },
          "metadata": {},
          "execution_count": 6
        },
        {
          "output_type": "display_data",
          "data": {
            "text/plain": [
              "<Figure size 640x480 with 1 Axes>"
            ],
            "image/png": "[encoded data removed]"
          },
          "metadata": {}
        }
      ],
      "source": [
        "\n",
        "img = cv2.imread(train_dir+'/A/1.png')\n",
        "img_rgb = cv2.cvtColor(img,cv2.COLOR_BGR2RGB)\n",
        "plt.imshow(img)"
      ]
    },
    {
      "cell_type": "code",
      "execution_count": 7,
      "metadata": {
        "colab": {
          "base_uri": "https://localhost:8080/",
          "height": 449
        },
        "id": "bGM8UO6vu8I2",
        "outputId": "4a060397-24b2-43f9-f4f6-9c7a89f99cac"
      },
      "outputs": [
        {
          "output_type": "execute_result",
          "data": {
            "text/plain": [
              "<matplotlib.image.AxesImage at 0x7e9af2981150>"
            ]
          },
          "metadata": {},
          "execution_count": 7
        },
        {
          "output_type": "display_data",
          "data": {
            "text/plain": [
              "<Figure size 640x480 with 1 Axes>"
            ],
            "image/png": "[encoded data removed]"
          },
          "metadata": {}
        }
      ],
      "source": [
        "plt.imshow(img_rgb)"
      ]
    },
    {
      "cell_type": "code",
      "execution_count": 8,
      "metadata": {
        "colab": {
          "base_uri": "https://localhost:8080/"
        },
        "id": "L2c2g220v_qs",
        "outputId": "258f6815-3699-40d3-9872-e6985ed120ea"
      },
      "outputs": [
        {
          "output_type": "execute_result",
          "data": {
            "text/plain": [
              "(60, 60, 3)"
            ]
          },
          "metadata": {},
          "execution_count": 8
        }
      ],
      "source": [
        "img.shape"
      ]
    },
    {
      "cell_type": "markdown",
      "metadata": {
        "id": "_znhp_n1ALdU"
      },
      "source": [
        "# Modeling"
      ]
    },
    {
      "cell_type": "code",
      "execution_count": 9,
      "metadata": {
        "id": "GGI3EteOz3l4"
      },
      "outputs": [],
      "source": [
        "import tensorflow as tf\n",
        "model           = tf.keras.models.Sequential([\n",
        "\n",
        "    tf.keras.layers.Conv2D(64,(3,3),activation='relu',padding='same',input_shape=(20,20,3)),\n",
        "    tf.keras.layers.MaxPooling2D(2,2),\n",
        "    tf.keras.layers.Conv2D(64,(3,3),padding='same',activation='relu'),\n",
        "    tf.keras.layers.MaxPooling2D(2,2),\n",
        "    # tf.keras.layers.Conv2D(64,(3,3),padding='same',activation='relu'),\n",
        "    # tf.keras.layers.MaxPooling2D(2,2),\n",
        "    tf.keras.layers.Flatten(),\n",
        "    # tf.keras.layers.Dropout(0.5),\n",
        "    # tf.keras.layers.Dense(100, activation = 'relu'),\n",
        "    tf.keras.layers.Dense(200, activation = 'relu'),\n",
        "    tf.keras.layers.Dense(26,activation='softmax')\n",
        "])"
      ]
    },
    {
      "cell_type": "code",
      "execution_count": 10,
      "metadata": {
        "id": "SdG-h4pK49Jk"
      },
      "outputs": [],
      "source": [
        "model.compile(optimizer='adam',\n",
        "              loss = 'categorical_crossentropy',\n",
        "              metrics =['acc'])"
      ]
    },
    {
      "cell_type": "code",
      "execution_count": 11,
      "metadata": {
        "id": "-7Jm3hMh3N27"
      },
      "outputs": [],
      "source": [
        "from tensorflow.keras.preprocessing.image import ImageDataGenerator\n",
        "\n",
        "# All images will be rescaled by 1./255.\n",
        "train_datagen = ImageDataGenerator( rescale = 1.0/255. )\n",
        "test_datagen  = ImageDataGenerator( rescale = 1.0/255. )"
      ]
    },
    {
      "cell_type": "code",
      "execution_count": 12,
      "metadata": {
        "colab": {
          "base_uri": "https://localhost:8080/"
        },
        "id": "mJ9zIkBx3706",
        "outputId": "2b779afd-c420-43c7-cb83-7e04b6f631a2"
      },
      "outputs": [
        {
          "output_type": "stream",
          "name": "stdout",
          "text": [
            "Found 520 images belonging to 26 classes.\n",
            "Found 260 images belonging to 26 classes.\n"
          ]
        }
      ],
      "source": [
        "batch_size = 50\n",
        "\n",
        "training_set = train_datagen.flow_from_directory(train_dir,\n",
        "                                                 target_size=(20, 20),\n",
        "                                                 batch_size=batch_size,\n",
        "                                                 class_mode='categorical')\n",
        "\n",
        "test_set = test_datagen .flow_from_directory(test_dir,\n",
        "                                            target_size=(20, 20),\n",
        "                                            batch_size=batch_size,\n",
        "                                            class_mode='categorical')"
      ]
    },
    {
      "cell_type": "code",
      "execution_count": 13,
      "metadata": {
        "colab": {
          "base_uri": "https://localhost:8080/"
        },
        "id": "rfAeyy8o4NvK",
        "outputId": "924e9a42-99a2-43b4-b573-281858b6d7e8"
      },
      "outputs": [
        {
          "output_type": "stream",
          "name": "stdout",
          "text": [
            "Epoch 1/15\n",
            "10/10 - 166s - loss: 3.1825 - acc: 0.1460 - 166s/epoch - 17s/step\n",
            "Epoch 2/15\n",
            "10/10 - 1s - loss: 2.4656 - acc: 0.5640 - 736ms/epoch - 74ms/step\n",
            "Epoch 3/15\n",
            "10/10 - 1s - loss: 1.1517 - acc: 0.7760 - 742ms/epoch - 74ms/step\n",
            "Epoch 4/15\n",
            "10/10 - 1s - loss: 0.4067 - acc: 0.9000 - 743ms/epoch - 74ms/step\n",
            "Epoch 5/15\n",
            "10/10 - 1s - loss: 0.1163 - acc: 0.9820 - 742ms/epoch - 74ms/step\n",
            "Epoch 6/15\n",
            "10/10 - 1s - loss: 0.0417 - acc: 0.9980 - 780ms/epoch - 78ms/step\n",
            "Epoch 7/15\n",
            "10/10 - 1s - loss: 0.0320 - acc: 0.9940 - 799ms/epoch - 80ms/step\n",
            "Epoch 8/15\n",
            "10/10 - 1s - loss: 0.0223 - acc: 0.9960 - 768ms/epoch - 77ms/step\n",
            "Epoch 9/15\n",
            "10/10 - 1s - loss: 0.0157 - acc: 1.0000 - 740ms/epoch - 74ms/step\n",
            "Epoch 10/15\n",
            "10/10 - 1s - loss: 0.0147 - acc: 0.9960 - 759ms/epoch - 76ms/step\n",
            "Epoch 11/15\n",
            "10/10 - 1s - loss: 0.0094 - acc: 1.0000 - 731ms/epoch - 73ms/step\n",
            "Epoch 12/15\n",
            "10/10 - 1s - loss: 0.0056 - acc: 1.0000 - 765ms/epoch - 77ms/step\n",
            "Epoch 13/15\n",
            "10/10 - 1s - loss: 0.0024 - acc: 1.0000 - 733ms/epoch - 73ms/step\n",
            "Epoch 14/15\n",
            "10/10 - 1s - loss: 0.0026 - acc: 1.0000 - 744ms/epoch - 74ms/step\n",
            "Epoch 15/15\n",
            "10/10 - 1s - loss: 0.0016 - acc: 1.0000 - 754ms/epoch - 75ms/step\n"
          ]
        }
      ],
      "source": [
        "history = model.fit(training_set,\n",
        "\n",
        "                         steps_per_epoch= 520//batch_size,\n",
        "\n",
        "                         epochs=15,\n",
        "                         verbose = 2,\n",
        "                         shuffle = False)"
      ]
    },
    {
      "cell_type": "code",
      "execution_count": 15,
      "metadata": {
        "colab": {
          "base_uri": "https://localhost:8080/"
        },
        "id": "QSTwERFN4ptf",
        "outputId": "bc37e902-fb87-4c43-9280-6fd189e4a17f"
      },
      "outputs": [
        {
          "output_type": "stream",
          "name": "stdout",
          "text": [
            "Model: \"sequential\"\n",
            "_________________________________________________________________\n",
            " Layer (type)                Output Shape              Param #   \n",
            "=================================================================\n",
            " conv2d (Conv2D)             (None, 20, 20, 64)        1792      \n",
            "                                                                 \n",
            " max_pooling2d (MaxPooling2  (None, 10, 10, 64)        0         \n",
            " D)                                                              \n",
            "                                                                 \n",
            " conv2d_1 (Conv2D)           (None, 10, 10, 64)        36928     \n",
            "                                                                 \n",
            " max_pooling2d_1 (MaxPoolin  (None, 5, 5, 64)          0         \n",
            " g2D)                                                            \n",
            "                                                                 \n",
            " flatten (Flatten)           (None, 1600)              0         \n",
            "                                                                 \n",
            " dense (Dense)               (None, 200)               320200    \n",
            "                                                                 \n",
            " dense_1 (Dense)             (None, 26)                5226      \n",
            "                                                                 \n",
            "=================================================================\n",
            "Total params: 364146 (1.39 MB)\n",
            "Trainable params: 364146 (1.39 MB)\n",
            "Non-trainable params: 0 (0.00 Byte)\n",
            "_________________________________________________________________\n"
          ]
        }
      ],
      "source": [
        "model.summary()"
      ]
    },
    {
      "cell_type": "code",
      "execution_count": 14,
      "metadata": {
        "colab": {
          "base_uri": "https://localhost:8080/",
          "height": 489
        },
        "id": "C8lD8ji16Omv",
        "outputId": "573bf29b-7aba-4938-8f95-4fa2181409e0"
      },
      "outputs": [
        {
          "output_type": "display_data",
          "data": {
            "text/plain": [
              "<Figure size 640x480 with 1 Axes>"
            ],
            "image/png": "[encoded data removed]"
          },
          "metadata": {}
        },
        {
          "output_type": "display_data",
          "data": {
            "text/plain": [
              "<Figure size 640x480 with 0 Axes>"
            ]
          },
          "metadata": {}
        }
      ],
      "source": [
        "import matplotlib.pyplot as plt\n",
        "acc = history.history[     'acc' ]\n",
        "\n",
        "# loss     = history.history[    'loss' ]\n",
        "\n",
        "\n",
        "epochs   = range(len(acc))\n",
        "plt.plot  ( epochs,     acc ,label = 'Accuracy')\n",
        "plt.title ('Training Accuracy')\n",
        "plt.title(\"model accuracy\")\n",
        "plt.ylabel(\"accuracy\")\n",
        "plt.xlabel(\"epoch\")\n",
        "\n",
        "plt.figure()\n",
        "\n",
        "plt.show()\n",
        "\n"
      ]
    },
    {
      "cell_type": "code",
      "execution_count": 16,
      "metadata": {
        "colab": {
          "base_uri": "https://localhost:8080/",
          "height": 489
        },
        "id": "lsPTH7Us6msK",
        "outputId": "0cd16c43-dff4-42cf-ece6-92f53a160924"
      },
      "outputs": [
        {
          "output_type": "display_data",
          "data": {
            "text/plain": [
              "<Figure size 640x480 with 1 Axes>"
            ],
            "image/png": "[encoded data removed]"
          },
          "metadata": {}
        },
        {
          "output_type": "display_data",
          "data": {
            "text/plain": [
              "<Figure size 640x480 with 0 Axes>"
            ]
          },
          "metadata": {}
        }
      ],
      "source": [
        "import matplotlib.pyplot as plt\n",
        "loss     = history.history[    'loss' ]\n",
        "\n",
        "plt.plot  ( epochs,     loss )\n",
        "plt.title ('Training Loss')\n",
        "plt.title(\"model loss\")\n",
        "plt.ylabel(\"loss\")\n",
        "plt.xlabel(\"epoch\")\n",
        "\n",
        "plt.figure()\n",
        "\n",
        "plt.show()"
      ]
    },
    {
      "cell_type": "code",
      "execution_count": 17,
      "metadata": {
        "colab": {
          "base_uri": "https://localhost:8080/"
        },
        "id": "0wmMCb2O7FSS",
        "outputId": "fb8da1e5-2e7d-4cc2-c2e9-64e8e40ae1a8"
      },
      "outputs": [
        {
          "output_type": "stream",
          "name": "stdout",
          "text": [
            "Label dictionary :  {'A': 0, 'B': 1, 'C': 2, 'D': 3, 'E': 4, 'F': 5, 'G': 6, 'H': 7, 'I': 8, 'J': 9, 'K': 10, 'L': 11, 'M': 12, 'N': 13, 'O': 14, 'P': 15, 'Q': 16, 'R': 17, 'S': 18, 'T': 19, 'U': 20, 'V': 21, 'W': 22, 'X': 23, 'Y': 24, 'Z': 25}\n"
          ]
        }
      ],
      "source": [
        "class_dictionary = test_set.class_indices\n",
        "print(\"Label dictionary : \",class_dictionary)"
      ]
    },
    {
      "cell_type": "code",
      "execution_count": 18,
      "metadata": {
        "colab": {
          "base_uri": "https://localhost:8080/"
        },
        "id": "rH3p-g9j7Qfv",
        "outputId": "b3e13f90-b475-47ae-b84b-fde868241bcc"
      },
      "outputs": [
        {
          "output_type": "stream",
          "name": "stdout",
          "text": [
            "6/6 [==============================] - 77s 15s/step\n"
          ]
        }
      ],
      "source": [
        "y_predicted = model.predict(test_set)"
      ]
    },
    {
      "cell_type": "code",
      "execution_count": 19,
      "metadata": {
        "colab": {
          "base_uri": "https://localhost:8080/"
        },
        "id": "sgeAq0Vn76hp",
        "outputId": "49633b44-3775-49e9-c0fd-632840fce576"
      },
      "outputs": [
        {
          "output_type": "execute_result",
          "data": {
            "text/plain": [
              "array([[1.06318973e-01, 2.09621930e-06, 3.60231090e-04, ...,\n",
              "        1.08037901e-03, 2.01733783e-04, 3.16728809e-04],\n",
              "       [3.54748080e-03, 2.85505394e-07, 1.58454932e-03, ...,\n",
              "        2.47852206e-02, 7.33343838e-03, 3.23899984e-02],\n",
              "       [1.69403795e-02, 9.48205070e-08, 4.01720928e-04, ...,\n",
              "        1.09938715e-04, 1.40093389e-05, 2.49111122e-06],\n",
              "       ...,\n",
              "       [2.17706166e-11, 1.28245246e-08, 2.47390736e-02, ...,\n",
              "        2.39591788e-12, 7.40365343e-14, 3.93227806e-09],\n",
              "       [3.29888916e-09, 5.74813021e-06, 7.23902183e-03, ...,\n",
              "        3.95863030e-12, 3.28668104e-12, 4.83823257e-08],\n",
              "       [1.88488946e-06, 4.56377380e-09, 1.77338677e-08, ...,\n",
              "        2.90817820e-06, 2.03414832e-08, 1.62134075e-08]], dtype=float32)"
            ]
          },
          "metadata": {},
          "execution_count": 19
        }
      ],
      "source": [
        "y_predicted"
      ]
    },
    {
      "cell_type": "code",
      "execution_count": 20,
      "metadata": {
        "colab": {
          "base_uri": "https://localhost:8080/"
        },
        "id": "UwrTTHDr-613",
        "outputId": "4cda4560-32d8-4e65-de7f-263865681dfe"
      },
      "outputs": [
        {
          "output_type": "stream",
          "name": "stdout",
          "text": [
            "1/1 [==============================] - 0s 148ms/step\n",
            "1/1 [==============================] - 0s 18ms/step\n",
            "1/1 [==============================] - 0s 19ms/step\n",
            "1/1 [==============================] - 0s 18ms/step\n",
            "1/1 [==============================] - 0s 18ms/step\n",
            "1/1 [==============================] - 0s 28ms/step\n",
            "1/1 [==============================] - 0s 21ms/step\n",
            "1/1 [==============================] - 0s 20ms/step\n",
            "1/1 [==============================] - 0s 22ms/step\n",
            "1/1 [==============================] - 0s 19ms/step\n",
            "\n",
            "1/1 [==============================] - 0s 21ms/step\n",
            "1/1 [==============================] - 0s 31ms/step\n",
            "1/1 [==============================] - 0s 21ms/step\n",
            "1/1 [==============================] - 0s 21ms/step\n",
            "1/1 [==============================] - 0s 18ms/step\n",
            "1/1 [==============================] - 0s 21ms/step\n",
            "1/1 [==============================] - 0s 25ms/step\n",
            "1/1 [==============================] - 0s 21ms/step\n",
            "1/1 [==============================] - 0s 21ms/step\n",
            "1/1 [==============================] - 0s 23ms/step\n",
            "\n",
            "1/1 [==============================] - 0s 21ms/step\n",
            "1/1 [==============================] - 0s 25ms/step\n",
            "1/1 [==============================] - 0s 18ms/step\n",
            "1/1 [==============================] - 0s 18ms/step\n",
            "1/1 [==============================] - 0s 18ms/step\n",
            "1/1 [==============================] - 0s 21ms/step\n",
            "1/1 [==============================] - 0s 20ms/step\n",
            "1/1 [==============================] - 0s 26ms/step\n",
            "1/1 [==============================] - 0s 21ms/step\n",
            "1/1 [==============================] - 0s 21ms/step\n",
            "\n",
            "1/1 [==============================] - 0s 22ms/step\n",
            "1/1 [==============================] - 0s 18ms/step\n",
            "1/1 [==============================] - 0s 19ms/step\n",
            "1/1 [==============================] - 0s 20ms/step\n",
            "1/1 [==============================] - 0s 20ms/step\n",
            "1/1 [==============================] - 0s 19ms/step\n",
            "1/1 [==============================] - 0s 19ms/step\n",
            "1/1 [==============================] - 0s 24ms/step\n",
            "1/1 [==============================] - 0s 21ms/step\n",
            "1/1 [==============================] - 0s 19ms/step\n",
            "\n",
            "1/1 [==============================] - 0s 18ms/step\n",
            "1/1 [==============================] - 0s 18ms/step\n",
            "1/1 [==============================] - 0s 21ms/step\n",
            "1/1 [==============================] - 0s 21ms/step\n",
            "1/1 [==============================] - 0s 21ms/step\n",
            "1/1 [==============================] - 0s 19ms/step\n",
            "1/1 [==============================] - 0s 19ms/step\n",
            "1/1 [==============================] - 0s 22ms/step\n",
            "1/1 [==============================] - 0s 21ms/step\n",
            "1/1 [==============================] - 0s 19ms/step\n",
            "\n",
            "1/1 [==============================] - 0s 31ms/step\n",
            "1/1 [==============================] - 0s 29ms/step\n",
            "1/1 [==============================] - 0s 37ms/step\n",
            "1/1 [==============================] - 0s 31ms/step\n",
            "1/1 [==============================] - 0s 33ms/step\n",
            "1/1 [==============================] - 0s 29ms/step\n",
            "1/1 [==============================] - 0s 27ms/step\n",
            "1/1 [==============================] - 0s 30ms/step\n",
            "1/1 [==============================] - 0s 29ms/step\n",
            "1/1 [==============================] - 0s 29ms/step\n",
            "\n",
            "1/1 [==============================] - 0s 33ms/step\n",
            "1/1 [==============================] - 0s 30ms/step\n",
            "1/1 [==============================] - 0s 33ms/step\n",
            "1/1 [==============================] - 0s 29ms/step\n",
            "1/1 [==============================] - 0s 27ms/step\n",
            "1/1 [==============================] - 0s 29ms/step\n",
            "1/1 [==============================] - 0s 27ms/step\n",
            "1/1 [==============================] - 0s 33ms/step\n",
            "1/1 [==============================] - 0s 32ms/step\n",
            "1/1 [==============================] - 0s 28ms/step\n",
            "\n",
            "1/1 [==============================] - 0s 28ms/step\n",
            "1/1 [==============================] - 0s 40ms/step\n",
            "1/1 [==============================] - 0s 26ms/step\n",
            "1/1 [==============================] - 0s 29ms/step\n",
            "1/1 [==============================] - 0s 30ms/step\n",
            "1/1 [==============================] - 0s 27ms/step\n",
            "1/1 [==============================] - 0s 29ms/step\n",
            "1/1 [==============================] - 0s 30ms/step\n",
            "1/1 [==============================] - 0s 29ms/step\n",
            "1/1 [==============================] - 0s 29ms/step\n",
            "\n",
            "1/1 [==============================] - 0s 31ms/step\n",
            "1/1 [==============================] - 0s 29ms/step\n",
            "1/1 [==============================] - 0s 30ms/step\n",
            "1/1 [==============================] - 0s 30ms/step\n",
            "1/1 [==============================] - 0s 29ms/step\n",
            "1/1 [==============================] - 0s 31ms/step\n",
            "1/1 [==============================] - 0s 39ms/step\n",
            "1/1 [==============================] - 0s 32ms/step\n",
            "1/1 [==============================] - 0s 25ms/step\n",
            "1/1 [==============================] - 0s 29ms/step\n",
            "\n",
            "1/1 [==============================] - 0s 40ms/step\n",
            "1/1 [==============================] - 0s 31ms/step\n",
            "1/1 [==============================] - 0s 18ms/step\n",
            "1/1 [==============================] - 0s 20ms/step\n",
            "1/1 [==============================] - 0s 20ms/step\n",
            "1/1 [==============================] - 0s 18ms/step\n",
            "1/1 [==============================] - 0s 21ms/step\n",
            "1/1 [==============================] - 0s 18ms/step\n",
            "1/1 [==============================] - 0s 18ms/step\n",
            "1/1 [==============================] - 0s 22ms/step\n",
            "\n",
            "1/1 [==============================] - 0s 27ms/step\n",
            "1/1 [==============================] - 0s 17ms/step\n",
            "1/1 [==============================] - 0s 18ms/step\n",
            "1/1 [==============================] - 0s 21ms/step\n",
            "1/1 [==============================] - 0s 20ms/step\n",
            "1/1 [==============================] - 0s 20ms/step\n",
            "1/1 [==============================] - 0s 19ms/step\n",
            "1/1 [==============================] - 0s 19ms/step\n",
            "1/1 [==============================] - 0s 21ms/step\n",
            "1/1 [==============================] - 0s 18ms/step\n",
            "\n",
            "1/1 [==============================] - 0s 18ms/step\n",
            "1/1 [==============================] - 0s 18ms/step\n",
            "1/1 [==============================] - 0s 84ms/step\n",
            "1/1 [==============================] - 0s 118ms/step\n",
            "1/1 [==============================] - 0s 27ms/step\n",
            "1/1 [==============================] - 0s 21ms/step\n",
            "1/1 [==============================] - 0s 26ms/step\n",
            "1/1 [==============================] - 0s 20ms/step\n",
            "1/1 [==============================] - 0s 31ms/step\n",
            "1/1 [==============================] - 0s 32ms/step\n",
            "\n",
            "1/1 [==============================] - 0s 38ms/step\n",
            "1/1 [==============================] - 0s 181ms/step\n",
            "1/1 [==============================] - 0s 80ms/step\n",
            "1/1 [==============================] - 0s 63ms/step\n",
            "1/1 [==============================] - 0s 18ms/step\n",
            "1/1 [==============================] - 0s 18ms/step\n",
            "1/1 [==============================] - 0s 19ms/step\n",
            "1/1 [==============================] - 0s 19ms/step\n",
            "1/1 [==============================] - 0s 18ms/step\n",
            "1/1 [==============================] - 0s 22ms/step\n",
            "\n",
            "1/1 [==============================] - 0s 20ms/step\n",
            "1/1 [==============================] - 0s 18ms/step\n",
            "1/1 [==============================] - 0s 96ms/step\n",
            "1/1 [==============================] - 0s 145ms/step\n",
            "1/1 [==============================] - 0s 73ms/step\n",
            "1/1 [==============================] - 0s 22ms/step\n",
            "1/1 [==============================] - 0s 17ms/step\n",
            "1/1 [==============================] - 0s 20ms/step\n",
            "1/1 [==============================] - 0s 19ms/step\n",
            "1/1 [==============================] - 0s 18ms/step\n",
            "\n",
            "1/1 [==============================] - 0s 17ms/step\n",
            "1/1 [==============================] - 0s 17ms/step\n",
            "1/1 [==============================] - 0s 19ms/step\n",
            "1/1 [==============================] - 0s 24ms/step\n",
            "1/1 [==============================] - 0s 19ms/step\n",
            "1/1 [==============================] - 0s 18ms/step\n",
            "1/1 [==============================] - 0s 18ms/step\n",
            "1/1 [==============================] - 0s 17ms/step\n",
            "1/1 [==============================] - 0s 20ms/step\n",
            "1/1 [==============================] - 0s 18ms/step\n",
            "\n",
            "1/1 [==============================] - 0s 18ms/step\n",
            "1/1 [==============================] - 0s 21ms/step\n",
            "1/1 [==============================] - 0s 17ms/step\n",
            "1/1 [==============================] - 0s 17ms/step\n",
            "1/1 [==============================] - 0s 18ms/step\n",
            "1/1 [==============================] - 0s 17ms/step\n",
            "1/1 [==============================] - 0s 20ms/step\n",
            "1/1 [==============================] - 0s 18ms/step\n",
            "1/1 [==============================] - 0s 21ms/step\n",
            "1/1 [==============================] - 0s 17ms/step\n",
            "\n",
            "1/1 [==============================] - 0s 24ms/step\n",
            "1/1 [==============================] - 0s 20ms/step\n",
            "1/1 [==============================] - 0s 21ms/step\n",
            "1/1 [==============================] - 0s 18ms/step\n",
            "1/1 [==============================] - 0s 18ms/step\n",
            "1/1 [==============================] - 0s 18ms/step\n",
            "1/1 [==============================] - 0s 20ms/step\n",
            "1/1 [==============================] - 0s 20ms/step\n",
            "1/1 [==============================] - 0s 17ms/step\n",
            "1/1 [==============================] - 0s 20ms/step\n",
            "\n",
            "1/1 [==============================] - 0s 19ms/step\n",
            "1/1 [==============================] - 0s 25ms/step\n",
            "1/1 [==============================] - 0s 18ms/step\n",
            "1/1 [==============================] - 0s 18ms/step\n",
            "1/1 [==============================] - 0s 18ms/step\n",
            "1/1 [==============================] - 0s 19ms/step\n",
            "1/1 [==============================] - 0s 21ms/step\n",
            "1/1 [==============================] - 0s 19ms/step\n",
            "1/1 [==============================] - 0s 18ms/step\n",
            "1/1 [==============================] - 0s 25ms/step\n",
            "\n",
            "1/1 [==============================] - 0s 19ms/step\n",
            "1/1 [==============================] - 0s 18ms/step\n",
            "1/1 [==============================] - 0s 18ms/step\n",
            "1/1 [==============================] - 0s 17ms/step\n",
            "1/1 [==============================] - 0s 18ms/step\n",
            "1/1 [==============================] - 0s 20ms/step\n",
            "1/1 [==============================] - 0s 22ms/step\n",
            "1/1 [==============================] - 0s 21ms/step\n",
            "1/1 [==============================] - 0s 19ms/step\n",
            "1/1 [==============================] - 0s 18ms/step\n",
            "\n",
            "1/1 [==============================] - 0s 19ms/step\n",
            "1/1 [==============================] - 0s 21ms/step\n",
            "1/1 [==============================] - 0s 17ms/step\n",
            "1/1 [==============================] - 0s 24ms/step\n",
            "1/1 [==============================] - 0s 22ms/step\n",
            "1/1 [==============================] - 0s 21ms/step\n",
            "1/1 [==============================] - 0s 22ms/step\n",
            "1/1 [==============================] - 0s 20ms/step\n",
            "1/1 [==============================] - 0s 21ms/step\n",
            "1/1 [==============================] - 0s 18ms/step\n",
            "\n",
            "1/1 [==============================] - 0s 19ms/step\n",
            "1/1 [==============================] - 0s 18ms/step\n",
            "1/1 [==============================] - 0s 19ms/step\n",
            "1/1 [==============================] - 0s 20ms/step\n",
            "1/1 [==============================] - 0s 19ms/step\n",
            "1/1 [==============================] - 0s 20ms/step\n",
            "1/1 [==============================] - 0s 21ms/step\n",
            "1/1 [==============================] - 0s 24ms/step\n",
            "1/1 [==============================] - 0s 18ms/step\n",
            "1/1 [==============================] - 0s 18ms/step\n",
            "\n",
            "1/1 [==============================] - 0s 24ms/step\n",
            "1/1 [==============================] - 0s 18ms/step\n",
            "1/1 [==============================] - 0s 18ms/step\n",
            "1/1 [==============================] - 0s 20ms/step\n",
            "1/1 [==============================] - 0s 18ms/step\n",
            "1/1 [==============================] - 0s 19ms/step\n",
            "1/1 [==============================] - 0s 18ms/step\n",
            "1/1 [==============================] - 0s 19ms/step\n",
            "1/1 [==============================] - 0s 18ms/step\n",
            "1/1 [==============================] - 0s 17ms/step\n",
            "\n",
            "1/1 [==============================] - 0s 20ms/step\n",
            "1/1 [==============================] - 0s 19ms/step\n",
            "1/1 [==============================] - 0s 19ms/step\n",
            "1/1 [==============================] - 0s 20ms/step\n",
            "1/1 [==============================] - 0s 29ms/step\n",
            "1/1 [==============================] - 0s 29ms/step\n",
            "1/1 [==============================] - 0s 32ms/step\n",
            "1/1 [==============================] - 0s 32ms/step\n",
            "1/1 [==============================] - 0s 38ms/step\n",
            "1/1 [==============================] - 0s 28ms/step\n",
            "\n",
            "1/1 [==============================] - 0s 29ms/step\n",
            "1/1 [==============================] - 0s 31ms/step\n",
            "1/1 [==============================] - 0s 43ms/step\n",
            "1/1 [==============================] - 0s 30ms/step\n",
            "1/1 [==============================] - 0s 30ms/step\n",
            "1/1 [==============================] - 0s 31ms/step\n",
            "1/1 [==============================] - 0s 35ms/step\n",
            "1/1 [==============================] - 0s 34ms/step\n",
            "1/1 [==============================] - 0s 28ms/step\n",
            "1/1 [==============================] - 0s 32ms/step\n",
            "\n",
            "1/1 [==============================] - 0s 34ms/step\n",
            "1/1 [==============================] - 0s 30ms/step\n",
            "1/1 [==============================] - 0s 33ms/step\n",
            "1/1 [==============================] - 0s 32ms/step\n",
            "1/1 [==============================] - 0s 38ms/step\n",
            "1/1 [==============================] - 0s 26ms/step\n",
            "1/1 [==============================] - 0s 30ms/step\n",
            "1/1 [==============================] - 0s 29ms/step\n",
            "1/1 [==============================] - 0s 27ms/step\n",
            "1/1 [==============================] - 0s 27ms/step\n",
            "\n",
            "1/1 [==============================] - 0s 29ms/step\n",
            "1/1 [==============================] - 0s 27ms/step\n",
            "1/1 [==============================] - 0s 25ms/step\n",
            "1/1 [==============================] - 0s 28ms/step\n",
            "1/1 [==============================] - 0s 28ms/step\n",
            "1/1 [==============================] - 0s 37ms/step\n",
            "1/1 [==============================] - 0s 30ms/step\n",
            "1/1 [==============================] - 0s 29ms/step\n",
            "1/1 [==============================] - 0s 28ms/step\n",
            "1/1 [==============================] - 0s 30ms/step\n",
            "\n"
          ]
        }
      ],
      "source": [
        "folder_names = ['A','B','C','D','E','F','G','H','I','J','K','L','M','N','O','P','Q','R','S','T','U','V','W','X','Y','Z'] # Please don't forget to change here\n",
        "y_pred = []\n",
        "for folder in folder_names:\n",
        "    path = test_dir+\"/\"+folder\n",
        "    path_fnames = os.listdir(path)\n",
        "    for i in path_fnames:\n",
        "        path2 = path+'/'+i\n",
        "        img = tf.keras.preprocessing.image.load_img(path2, target_size=(20,20))\n",
        "        x = tf.keras.preprocessing.image.img_to_array(img)\n",
        "        x = np.expand_dims(x,axis=0)\n",
        "        x /= 255.0\n",
        "        images = np.vstack([x])# [1 2 3 4 5 6]\n",
        "        classes = model.predict(x)\n",
        "        y_classes=classes.argmax(axis=-1)\n",
        "        y_pred.append(y_classes[0])\n",
        "    print()"
      ]
    },
    {
      "cell_type": "code",
      "execution_count": 23,
      "metadata": {
        "colab": {
          "base_uri": "https://localhost:8080/"
        },
        "id": "y0D1zkbE_ZXj",
        "outputId": "260d2394-bb20-40b3-b5d1-d25e3a2d0762"
      },
      "outputs": [
        {
          "output_type": "execute_result",
          "data": {
            "text/plain": [
              "[0,\n",
              " 0,\n",
              " 0,\n",
              " 0,\n",
              " 0,\n",
              " 0,\n",
              " 0,\n",
              " 0,\n",
              " 0,\n",
              " 0,\n",
              " 9,\n",
              " 1,\n",
              " 1,\n",
              " 1,\n",
              " 9,\n",
              " 1,\n",
              " 1,\n",
              " 9,\n",
              " 9,\n",
              " 1,\n",
              " 2,\n",
              " 2,\n",
              " 2,\n",
              " 2,\n",
              " 2,\n",
              " 2,\n",
              " 2,\n",
              " 2,\n",
              " 2,\n",
              " 2,\n",
              " 3,\n",
              " 3,\n",
              " 3,\n",
              " 9,\n",
              " 9,\n",
              " 3,\n",
              " 9,\n",
              " 3,\n",
              " 3,\n",
              " 9,\n",
              " 4,\n",
              " 11,\n",
              " 4,\n",
              " 4,\n",
              " 9,\n",
              " 4,\n",
              " 4,\n",
              " 4,\n",
              " 4,\n",
              " 11,\n",
              " 5,\n",
              " 5,\n",
              " 5,\n",
              " 5,\n",
              " 5,\n",
              " 5,\n",
              " 5,\n",
              " 5,\n",
              " 5,\n",
              " 5,\n",
              " 6,\n",
              " 6,\n",
              " 6,\n",
              " 6,\n",
              " 9,\n",
              " 6,\n",
              " 6,\n",
              " 6,\n",
              " 6,\n",
              " 6,\n",
              " 7,\n",
              " 7,\n",
              " 7,\n",
              " 7,\n",
              " 7,\n",
              " 7,\n",
              " 7,\n",
              " 7,\n",
              " 7,\n",
              " 7,\n",
              " 8,\n",
              " 8,\n",
              " 9,\n",
              " 8,\n",
              " 8,\n",
              " 8,\n",
              " 8,\n",
              " 9,\n",
              " 9,\n",
              " 9,\n",
              " 9,\n",
              " 9,\n",
              " 9,\n",
              " 9,\n",
              " 9,\n",
              " 9,\n",
              " 9,\n",
              " 9,\n",
              " 9,\n",
              " 9,\n",
              " 10,\n",
              " 10,\n",
              " 10,\n",
              " 10,\n",
              " 10,\n",
              " 10,\n",
              " 10,\n",
              " 10,\n",
              " 10,\n",
              " 10,\n",
              " 11,\n",
              " 11,\n",
              " 11,\n",
              " 11,\n",
              " 11,\n",
              " 11,\n",
              " 11,\n",
              " 11,\n",
              " 11,\n",
              " 11,\n",
              " 12,\n",
              " 12,\n",
              " 12,\n",
              " 12,\n",
              " 12,\n",
              " 21,\n",
              " 21,\n",
              " 12,\n",
              " 21,\n",
              " 12,\n",
              " 13,\n",
              " 13,\n",
              " 13,\n",
              " 13,\n",
              " 13,\n",
              " 13,\n",
              " 13,\n",
              " 13,\n",
              " 13,\n",
              " 13,\n",
              " 14,\n",
              " 14,\n",
              " 14,\n",
              " 14,\n",
              " 9,\n",
              " 9,\n",
              " 14,\n",
              " 14,\n",
              " 14,\n",
              " 9,\n",
              " 15,\n",
              " 15,\n",
              " 15,\n",
              " 15,\n",
              " 15,\n",
              " 15,\n",
              " 15,\n",
              " 15,\n",
              " 15,\n",
              " 15,\n",
              " 16,\n",
              " 16,\n",
              " 16,\n",
              " 16,\n",
              " 16,\n",
              " 16,\n",
              " 16,\n",
              " 9,\n",
              " 16,\n",
              " 16,\n",
              " 17,\n",
              " 17,\n",
              " 17,\n",
              " 17,\n",
              " 17,\n",
              " 17,\n",
              " 17,\n",
              " 17,\n",
              " 17,\n",
              " 17,\n",
              " 18,\n",
              " 6,\n",
              " 18,\n",
              " 18,\n",
              " 18,\n",
              " 18,\n",
              " 18,\n",
              " 9,\n",
              " 18,\n",
              " 18,\n",
              " 19,\n",
              " 19,\n",
              " 19,\n",
              " 19,\n",
              " 19,\n",
              " 19,\n",
              " 19,\n",
              " 19,\n",
              " 19,\n",
              " 19,\n",
              " 20,\n",
              " 20,\n",
              " 20,\n",
              " 20,\n",
              " 20,\n",
              " 20,\n",
              " 20,\n",
              " 20,\n",
              " 20,\n",
              " 20,\n",
              " 21,\n",
              " 21,\n",
              " 21,\n",
              " 21,\n",
              " 21,\n",
              " 21,\n",
              " 21,\n",
              " 21,\n",
              " 21,\n",
              " 21,\n",
              " 22,\n",
              " 22,\n",
              " 22,\n",
              " 9,\n",
              " 22,\n",
              " 22,\n",
              " 22,\n",
              " 22,\n",
              " 9,\n",
              " 22,\n",
              " 23,\n",
              " 23,\n",
              " 23,\n",
              " 23,\n",
              " 23,\n",
              " 23,\n",
              " 23,\n",
              " 23,\n",
              " 23,\n",
              " 23,\n",
              " 24,\n",
              " 24,\n",
              " 24,\n",
              " 24,\n",
              " 24,\n",
              " 24,\n",
              " 24,\n",
              " 24,\n",
              " 24,\n",
              " 24,\n",
              " 25,\n",
              " 25,\n",
              " 25,\n",
              " 25,\n",
              " 9,\n",
              " 25,\n",
              " 9,\n",
              " 25,\n",
              " 25,\n",
              " 25]"
            ]
          },
          "metadata": {},
          "execution_count": 23
        }
      ],
      "source": [
        "y_pred"
      ]
    },
    {
      "cell_type": "code",
      "execution_count": 22,
      "metadata": {
        "colab": {
          "base_uri": "https://localhost:8080/"
        },
        "id": "3NFlry4r_fOx",
        "outputId": "8b845df0-df4e-469b-ac7f-f2e1a25d9b69"
      },
      "outputs": [
        {
          "output_type": "stream",
          "name": "stdout",
          "text": [
            "[0, 0, 0, 0, 0, 0, 0, 0, 0, 0, 1, 1, 1, 1, 1, 1, 1, 1, 1, 1, 2, 2, 2, 2, 2, 2, 2, 2, 2, 2, 3, 3, 3, 3, 3, 3, 3, 3, 3, 3, 4, 4, 4, 4, 4, 4, 4, 4, 4, 4, 5, 5, 5, 5, 5, 5, 5, 5, 5, 5, 6, 6, 6, 6, 6, 6, 6, 6, 6, 6, 7, 7, 7, 7, 7, 7, 7, 7, 7, 7, 8, 8, 8, 8, 8, 8, 8, 8, 8, 8, 9, 9, 9, 9, 9, 9, 9, 9, 9, 9, 10, 10, 10, 10, 10, 10, 10, 10, 10, 10, 11, 11, 11, 11, 11, 11, 11, 11, 11, 11, 12, 12, 12, 12, 12, 12, 12, 12, 12, 12, 13, 13, 13, 13, 13, 13, 13, 13, 13, 13, 14, 14, 14, 14, 14, 14, 14, 14, 14, 14, 15, 15, 15, 15, 15, 15, 15, 15, 15, 15, 16, 16, 16, 16, 16, 16, 16, 16, 16, 16, 17, 17, 17, 17, 17, 17, 17, 17, 17, 17, 18, 18, 18, 18, 18, 18, 18, 18, 18, 18, 19, 19, 19, 19, 19, 19, 19, 19, 19, 19, 20, 20, 20, 20, 20, 20, 20, 20, 20, 20, 21, 21, 21, 21, 21, 21, 21, 21, 21, 21, 22, 22, 22, 22, 22, 22, 22, 22, 22, 22, 23, 23, 23, 23, 23, 23, 23, 23, 23, 23, 24, 24, 24, 24, 24, 24, 24, 24, 24, 24, 25, 25, 25, 25, 25, 25, 25, 25, 25, 25]\n"
          ]
        }
      ],
      "source": [
        "y_true = test_set.classes.tolist()\n",
        "print(y_true)"
      ]
    },
    {
      "cell_type": "markdown",
      "metadata": {
        "id": "EgppPxZ1ASAx"
      },
      "source": [
        "# Evulation"
      ]
    },
    {
      "cell_type": "code",
      "execution_count": 24,
      "metadata": {
        "colab": {
          "base_uri": "https://localhost:8080/"
        },
        "id": "Z4Naqahp_rwt",
        "outputId": "6839977a-fa69-46c6-e8fb-ae3dfb22242b"
      },
      "outputs": [
        {
          "output_type": "stream",
          "name": "stdout",
          "text": [
            "confusion_matrix\n",
            "[[10  0  0  0  0  0  0  0  0  0  0  0  0  0  0  0  0  0  0  0  0  0  0  0\n",
            "   0  0]\n",
            " [ 0  6  0  0  0  0  0  0  0  4  0  0  0  0  0  0  0  0  0  0  0  0  0  0\n",
            "   0  0]\n",
            " [ 0  0 10  0  0  0  0  0  0  0  0  0  0  0  0  0  0  0  0  0  0  0  0  0\n",
            "   0  0]\n",
            " [ 0  0  0  6  0  0  0  0  0  4  0  0  0  0  0  0  0  0  0  0  0  0  0  0\n",
            "   0  0]\n",
            " [ 0  0  0  0  7  0  0  0  0  1  0  2  0  0  0  0  0  0  0  0  0  0  0  0\n",
            "   0  0]\n",
            " [ 0  0  0  0  0 10  0  0  0  0  0  0  0  0  0  0  0  0  0  0  0  0  0  0\n",
            "   0  0]\n",
            " [ 0  0  0  0  0  0  9  0  0  1  0  0  0  0  0  0  0  0  0  0  0  0  0  0\n",
            "   0  0]\n",
            " [ 0  0  0  0  0  0  0 10  0  0  0  0  0  0  0  0  0  0  0  0  0  0  0  0\n",
            "   0  0]\n",
            " [ 0  0  0  0  0  0  0  0  6  4  0  0  0  0  0  0  0  0  0  0  0  0  0  0\n",
            "   0  0]\n",
            " [ 0  0  0  0  0  0  0  0  0 10  0  0  0  0  0  0  0  0  0  0  0  0  0  0\n",
            "   0  0]\n",
            " [ 0  0  0  0  0  0  0  0  0  0 10  0  0  0  0  0  0  0  0  0  0  0  0  0\n",
            "   0  0]\n",
            " [ 0  0  0  0  0  0  0  0  0  0  0 10  0  0  0  0  0  0  0  0  0  0  0  0\n",
            "   0  0]\n",
            " [ 0  0  0  0  0  0  0  0  0  0  0  0  7  0  0  0  0  0  0  0  0  3  0  0\n",
            "   0  0]\n",
            " [ 0  0  0  0  0  0  0  0  0  0  0  0  0 10  0  0  0  0  0  0  0  0  0  0\n",
            "   0  0]\n",
            " [ 0  0  0  0  0  0  0  0  0  3  0  0  0  0  7  0  0  0  0  0  0  0  0  0\n",
            "   0  0]\n",
            " [ 0  0  0  0  0  0  0  0  0  0  0  0  0  0  0 10  0  0  0  0  0  0  0  0\n",
            "   0  0]\n",
            " [ 0  0  0  0  0  0  0  0  0  1  0  0  0  0  0  0  9  0  0  0  0  0  0  0\n",
            "   0  0]\n",
            " [ 0  0  0  0  0  0  0  0  0  0  0  0  0  0  0  0  0 10  0  0  0  0  0  0\n",
            "   0  0]\n",
            " [ 0  0  0  0  0  0  1  0  0  1  0  0  0  0  0  0  0  0  8  0  0  0  0  0\n",
            "   0  0]\n",
            " [ 0  0  0  0  0  0  0  0  0  0  0  0  0  0  0  0  0  0  0 10  0  0  0  0\n",
            "   0  0]\n",
            " [ 0  0  0  0  0  0  0  0  0  0  0  0  0  0  0  0  0  0  0  0 10  0  0  0\n",
            "   0  0]\n",
            " [ 0  0  0  0  0  0  0  0  0  0  0  0  0  0  0  0  0  0  0  0  0 10  0  0\n",
            "   0  0]\n",
            " [ 0  0  0  0  0  0  0  0  0  2  0  0  0  0  0  0  0  0  0  0  0  0  8  0\n",
            "   0  0]\n",
            " [ 0  0  0  0  0  0  0  0  0  0  0  0  0  0  0  0  0  0  0  0  0  0  0 10\n",
            "   0  0]\n",
            " [ 0  0  0  0  0  0  0  0  0  0  0  0  0  0  0  0  0  0  0  0  0  0  0  0\n",
            "  10  0]\n",
            " [ 0  0  0  0  0  0  0  0  0  2  0  0  0  0  0  0  0  0  0  0  0  0  0  0\n",
            "   0  8]]\n"
          ]
        }
      ],
      "source": [
        "from sklearn.metrics import confusion_matrix\n",
        "confusion_matrix = confusion_matrix(y_true,y_pred)\n",
        "print('confusion_matrix')\n",
        "print(confusion_matrix)"
      ]
    },
    {
      "cell_type": "code",
      "execution_count": 25,
      "metadata": {
        "colab": {
          "base_uri": "https://localhost:8080/"
        },
        "id": "j54YFDLf_xNE",
        "outputId": "bccf4676-e862-4cbd-c152-02400cdb6bef"
      },
      "outputs": [
        {
          "output_type": "stream",
          "name": "stdout",
          "text": [
            "Accuracy Score 88.84615384615384 %\n",
            "Precision Macro Score  95.40613232920924 %\n",
            "Recall_Score 88.84615384615385 %\n",
            "F1_Score 90.30152203294384 %\n"
          ]
        }
      ],
      "source": [
        "from sklearn.metrics import accuracy_score, precision_score, f1_score, recall_score\n",
        "\n",
        "print('Accuracy Score',accuracy_score(y_true, y_pred)*100,'%')\n",
        "print('Precision Macro Score ',precision_score(y_true, y_pred,average = 'macro')*100,'%')\n",
        "print('Recall_Score',recall_score(y_true, y_pred, average = 'macro')*100,'%')\n",
        "print('F1_Score',f1_score(y_true, y_pred, average = 'macro')*100,'%')"
      ]
    },
    {
      "cell_type": "code",
      "execution_count": 26,
      "metadata": {
        "id": "yl4qva6X_53c"
      },
      "outputs": [],
      "source": [
        "\n",
        "\n",
        "# img = tf.keras.preprocessing.image.load_img(\"/content/C1.png\",target_size=(20,20))\n",
        "# x = tf.keras.preprocessing.image.img_to_array(img)\n",
        "# x = np.expand_dims(x,axis=0)\n",
        "# x /= 255.0\n",
        "# images = np.vstack([x])# [1 2 3 4 5 6]\n",
        "# classes = model.predict(x)\n",
        "# y_classes=classes.argmax(axis=-1)\n",
        "# # for i in y_classes:\n",
        "# #   print(i)\n",
        "# print(y_classes[0])\n",
        "\n",
        "def result(y):\n",
        "  if y[0]==0:\n",
        "    return 'A'\n",
        "  elif y[0]==1:\n",
        "    return 'B'\n",
        "  elif y[0]==2:\n",
        "    return 'C'\n",
        "  elif y[0]==3:\n",
        "    return 'D'\n",
        "  elif y[0]==4:\n",
        "    return 'E'\n",
        "  elif y[0]==5:\n",
        "    return 'F'\n",
        "  elif y[0]==6:\n",
        "    return 'G'\n",
        "  elif y[0]==7:\n",
        "    return 'H'\n",
        "  elif y[0]==8:\n",
        "    return 'I'\n",
        "  elif y[0]==9:\n",
        "    return 'J'\n",
        "  elif y[0]==10:\n",
        "    return 'K'\n",
        "  elif y[0]==11:\n",
        "    return 'L'\n",
        "  elif y[0]==12:\n",
        "    return 'M'\n",
        "  elif y[0]==13:\n",
        "    return 'N'\n",
        "  elif y[0]==14:\n",
        "    return 'O'\n",
        "  elif y[0]==15:\n",
        "    return 'P'\n",
        "  elif y[0]==16:\n",
        "    return 'Q'\n",
        "  elif y[0]==17:\n",
        "    return 'R'\n",
        "  elif y[0]==18:\n",
        "    return 'S'\n",
        "  elif y[0]==19:\n",
        "    return 'T'\n",
        "  elif y[0]==20:\n",
        "    return 'U'\n",
        "  elif y[0]==21:\n",
        "    return 'V'\n",
        "  elif y[0]==22:\n",
        "    return 'W'\n",
        "  elif y[0]==23:\n",
        "    return 'X'\n",
        "  elif y[0]==24:\n",
        "    return 'Y'\n",
        "  elif y[0]==25:\n",
        "    return 'Z'\n",
        "\n",
        "# res = result(y_classes)\n",
        "# print(res)\n",
        "\n"
      ]
    },
    {
      "cell_type": "code",
      "execution_count": 27,
      "metadata": {
        "id": "8ozZ4EULFmXs"
      },
      "outputs": [],
      "source": [
        "import cv2\n",
        "import numpy as np\n",
        "import matplotlib.pyplot as plt\n",
        "import os\n",
        "from PIL import Image"
      ]
    },
    {
      "cell_type": "code",
      "execution_count": 37,
      "metadata": {
        "colab": {
          "base_uri": "https://localhost:8080/"
        },
        "id": "Yeqk059oHBaV",
        "outputId": "af2e4abd-6b57-4d35-b2fe-0fdabc766eea"
      },
      "outputs": [
        {
          "output_type": "stream",
          "name": "stdout",
          "text": [
            "392 490 3\n"
          ]
        }
      ],
      "source": [
        "img = cv2.imread('/content/Screenshot (107).png')\n",
        "img = cv2.cvtColor(img,cv2.COLOR_BGR2RGB)\n",
        "\n",
        "h,w,c = img.shape\n",
        "print(h,w,c)"
      ]
    },
    {
      "cell_type": "code",
      "execution_count": 38,
      "metadata": {
        "colab": {
          "base_uri": "https://localhost:8080/",
          "height": 452
        },
        "id": "OLY47MPEHHX8",
        "outputId": "cbce6223-847c-4707-ab86-f0ef80ae0e07"
      },
      "outputs": [
        {
          "output_type": "execute_result",
          "data": {
            "text/plain": [
              "<matplotlib.image.AxesImage at 0x7e9a78242080>"
            ]
          },
          "metadata": {},
          "execution_count": 38
        },
        {
          "output_type": "display_data",
          "data": {
            "text/plain": [
              "<Figure size 640x480 with 1 Axes>"
            ],
            "image/png": "[encoded data removed]"
          },
          "metadata": {}
        }
      ],
      "source": [
        "if w > 1000:\n",
        "  new_w = 1000\n",
        "  ar = w/h\n",
        "  new_h = int(new_w/ar)\n",
        "  img = cv2.resize(img, (new_w,new_h), interpolation = cv2.INTER_AREA)\n",
        "plt.imshow(img)"
      ]
    },
    {
      "cell_type": "code",
      "execution_count": 39,
      "metadata": {
        "id": "JvB49CBoHO7l"
      },
      "outputs": [],
      "source": [
        "def thresholding(image):\n",
        "  img_gray = cv2.cvtColor(image,cv2.COLOR_BGR2GRAY)\n",
        "  ret, thresh= cv2.threshold(img_gray,100,255,cv2.THRESH_BINARY_INV)\n",
        "  plt.imshow(thresh, cmap='gray')\n",
        "  return thresh"
      ]
    },
    {
      "cell_type": "code",
      "execution_count": 40,
      "metadata": {
        "colab": {
          "base_uri": "https://localhost:8080/",
          "height": 452
        },
        "id": "2d6o1sHgHWwl",
        "outputId": "249d2829-feeb-4739-9a0a-238441a9af23"
      },
      "outputs": [
        {
          "output_type": "execute_result",
          "data": {
            "text/plain": [
              "<matplotlib.image.AxesImage at 0x7e9a782b25f0>"
            ]
          },
          "metadata": {},
          "execution_count": 40
        },
        {
          "output_type": "display_data",
          "data": {
            "text/plain": [
              "<Figure size 640x480 with 1 Axes>"
            ],
            "image/png": "[encoded data removed]"
          },
          "metadata": {}
        }
      ],
      "source": [
        "thresh_img = thresholding(img)\n",
        "plt.imshow(thresh_img, cmap='gray')"
      ]
    },
    {
      "cell_type": "code",
      "execution_count": 41,
      "metadata": {
        "colab": {
          "base_uri": "https://localhost:8080/",
          "height": 452
        },
        "id": "Ni86_RrLHgDa",
        "outputId": "521493bc-6bd0-4dc4-e81e-27809fdbdd9a"
      },
      "outputs": [
        {
          "output_type": "execute_result",
          "data": {
            "text/plain": [
              "<matplotlib.image.AxesImage at 0x7e9a78141180>"
            ]
          },
          "metadata": {},
          "execution_count": 41
        },
        {
          "output_type": "display_data",
          "data": {
            "text/plain": [
              "<Figure size 640x480 with 1 Axes>"
            ],
            "image/png": "[encoded data removed]"
          },
          "metadata": {}
        }
      ],
      "source": [
        "kernel = np.ones((3,85), np.uint8)\n",
        "dilated_image = cv2.dilate(thresh_img, kernel, iterations = 1)\n",
        "plt.imshow(dilated_image, cmap='gray')"
      ]
    },
    {
      "cell_type": "code",
      "execution_count": 42,
      "metadata": {
        "colab": {
          "base_uri": "https://localhost:8080/"
        },
        "id": "i5GukAbNF6dq",
        "outputId": "0e3cbf8a-5348-4031-b549-f64ffa97111c"
      },
      "outputs": [
        {
          "output_type": "stream",
          "name": "stdout",
          "text": [
            "3\n",
            "26 275 190 33\n"
          ]
        }
      ],
      "source": [
        "(contours,hierarchy) = cv2.findContours(dilated_image.copy(), cv2.RETR_EXTERNAL, cv2.CHAIN_APPROX_NONE)\n",
        "print(len(contours))\n",
        "# print(contours)\n",
        "\n",
        "x,y,w,h = cv2.boundingRect(contours[0])\n",
        "print(x,y,w,h)"
      ]
    },
    {
      "cell_type": "code",
      "execution_count": 43,
      "metadata": {
        "id": "kjvlTrOZGGmA"
      },
      "outputs": [],
      "source": [
        "sorted_conoturs_lines = sorted(contours, key = lambda ctr : cv2.boundingRect(ctr)[1])"
      ]
    },
    {
      "cell_type": "code",
      "execution_count": 44,
      "metadata": {
        "colab": {
          "base_uri": "https://localhost:8080/",
          "height": 452
        },
        "id": "nn58eZAF7fT-",
        "outputId": "f0a66868-a974-4c7d-adaa-d9c7dc5745e2"
      },
      "outputs": [
        {
          "output_type": "stream",
          "name": "stdout",
          "text": [
            "[[26, 275, 216, 308], [29, 157, 439, 190], [29, 39, 247, 72]]\n"
          ]
        },
        {
          "output_type": "display_data",
          "data": {
            "text/plain": [
              "<Figure size 640x480 with 1 Axes>"
            ],
            "image/png": "[encoded data removed]"
          },
          "metadata": {}
        }
      ],
      "source": [
        "img2 = img\n",
        "line_list = []\n",
        "\n",
        "for ctr in contours:\n",
        "  x,y,w,h = cv2.boundingRect(ctr)\n",
        "\n",
        "  cv2.rectangle(img2,(x,y),(x+w,y+h),(0,255,0),3)\n",
        "  line_list.append([x,y,x+w,y+h])\n",
        "\n",
        "plt.imshow(img2)\n",
        "print(line_list)"
      ]
    },
    {
      "cell_type": "code",
      "execution_count": 45,
      "metadata": {
        "id": "GPfvyw9AWyoh",
        "colab": {
          "base_uri": "https://localhost:8080/",
          "height": 609
        },
        "outputId": "eaeceadb-0f5c-4b5e-97ca-8645e6cfd336"
      },
      "outputs": [
        {
          "output_type": "stream",
          "name": "stdout",
          "text": [
            "4\n",
            "1/1 [==============================] - 0s 70ms/step\n",
            "1/1 [==============================] - 0s 97ms/step\n",
            "1/1 [==============================] - 0s 36ms/step\n",
            "1/1 [==============================] - 0s 34ms/step\n",
            "JHXJ\n",
            "12\n",
            "1/1 [==============================] - 0s 32ms/step\n",
            "1/1 [==============================] - 0s 80ms/step\n",
            "1/1 [==============================] - 0s 49ms/step\n",
            "1/1 [==============================] - 0s 49ms/step\n",
            "1/1 [==============================] - 0s 31ms/step\n",
            "1/1 [==============================] - 0s 37ms/step\n",
            "1/1 [==============================] - 0s 54ms/step\n",
            "1/1 [==============================] - 0s 32ms/step\n",
            "1/1 [==============================] - 0s 49ms/step\n",
            "1/1 [==============================] - 0s 35ms/step\n",
            "1/1 [==============================] - 0s 30ms/step\n",
            "1/1 [==============================] - 0s 94ms/step\n",
            "RHLUNGNIJIUN\n",
            "5\n",
            "1/1 [==============================] - 0s 64ms/step\n",
            "1/1 [==============================] - 0s 129ms/step\n",
            "1/1 [==============================] - 0s 80ms/step\n",
            "1/1 [==============================] - 0s 34ms/step\n",
            "1/1 [==============================] - 0s 27ms/step\n",
            "IMAGH\n"
          ]
        },
        {
          "output_type": "display_data",
          "data": {
            "text/plain": [
              "<Figure size 640x480 with 1 Axes>"
            ],
            "image/png": "[encoded data removed]"
          },
          "metadata": {}
        }
      ],
      "source": [
        "from operator import length_hint\n",
        "\n",
        "def reverse(str):\n",
        "    s = ''\n",
        "\n",
        "    for ch in str:\n",
        "        s = ch + s\n",
        "    return s\n",
        "\n",
        "\n",
        "img_copy=img\n",
        "for line in line_list:\n",
        "  roi = img_copy[line[1]:line[3], line[0]:line[2]]\n",
        "  # print(roi)\n",
        "  thresh_img2 = thresholding(roi)\n",
        "\n",
        "  kernel = np.ones((3,3), np.uint8)\n",
        "  dilated_image2 = cv2.dilate(thresh_img2, kernel, iterations = 1)\n",
        "\n",
        "  (contours,hierarchy) = cv2.findContours(dilated_image2.copy(), cv2.RETR_EXTERNAL, cv2.CHAIN_APPROX_NONE)\n",
        "  print(len(contours))\n",
        "\n",
        "  sorted_conoturs_letters = sorted(contours, key = lambda ctr : cv2.boundingRect(ctr)[0])\n",
        "\n",
        "\n",
        "  letter_list = []\n",
        "  res = ''\n",
        "  final = ''\n",
        "  for ctr in contours:\n",
        "    x,y,w,h = cv2.boundingRect(ctr)\n",
        "\n",
        "    cv2.rectangle(roi,(x,y),(x+w,y+h),(0,255,0),2)\n",
        "    letter_list.append([x,y,x+w,y+h])\n",
        "\n",
        "  for letter in letter_list:\n",
        "    roi_letter = roi[letter[1]:letter[3], letter[0]:letter[2]]\n",
        "      # print(len(roi_letter))\n",
        "    cv2.imwrite('letter.png', roi_letter)\n",
        "\n",
        "    image_receive = tf.keras.preprocessing.image.load_img(\"/content/letter.png\", target_size=(20,20))\n",
        "    x = tf.keras.preprocessing.image.img_to_array(image_receive)\n",
        "    x = np.expand_dims(x,axis=0)\n",
        "    x /= 255.0\n",
        "    images = np.vstack([x])# [1 2 3 4 5 6]\n",
        "    classes = model.predict(x)\n",
        "    y_classes=classes.argmax(axis=-1)\n",
        "\n",
        "    res += result(y_classes)\n",
        "\n",
        "  print(reverse(res))\n",
        "\n",
        ""
      ]
    },
    {
      "cell_type": "code",
      "execution_count": null,
      "metadata": {
        "id": "0U43tb4JJJOm"
      },
      "outputs": [],
      "source": [
        "model.save('characterCNN2.h5')"
      ]
    },
    {
      "cell_type": "code",
      "source": [],
      "metadata": {
        "id": "x61D1P1vLBe5"
      },
      "execution_count": null,
      "outputs": []
    }
  ],
  "metadata": {
    "accelerator": "GPU",
    "colab": {
      "provenance": [],
      "authorship_tag": "ABX9TyNIB076zqT+tFDwcrPojuV/",
      "include_colab_link": true
    },
    "gpuClass": "standard",
    "kernelspec": {
      "display_name": "Python 3",
      "name": "python3"
    },
    "language_info": {
      "name": "python"
    }
  },
  "nbformat": 4,
  "nbformat_minor": 0
}